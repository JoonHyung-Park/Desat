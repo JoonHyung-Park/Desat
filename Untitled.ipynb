{
 "cells": [
  {
   "cell_type": "code",
   "execution_count": 49,
   "metadata": {},
   "outputs": [
    {
     "name": "stdout",
     "output_type": "stream",
     "text": [
      "[0.1366367  0.27042049]\n",
      "tensor([[1., 0.],\n",
      "        [0., 1.]], device='cuda:0')\n",
      "tensor([[0.2526, 0.5000]], device='cuda:0')\n"
     ]
    }
   ],
   "source": [
    "import torch\n",
    "import numpy as np \n",
    "max_m = 0.5\n",
    "cls_num_list = [2869, 187]\n",
    "m_list = 1.0 / np.sqrt(np.sqrt(cls_num_list))\n",
    "\n",
    "print(m_list)\n",
    "m_list = m_list * (max_m / np.max(m_list))\n",
    "\n",
    "m_list = torch.cuda.FloatTensor(m_list)\n",
    "\n",
    "x = torch.FloatTensor([[0.7,0.3],[0.4,0.6]])\n",
    "target = torch.LongTensor([0,1])\n",
    "index = torch.zeros_like(x, dtype=torch.uint8)\n",
    "index.scatter_(1, target.data.view(-1, 1), 1)\n",
    "\n",
    "index_float = index.type(torch.cuda.FloatTensor)\n",
    "print(index_float)\n",
    "\n",
    "print(m_list[None, :])\n",
    "batch_m = torch.matmul(m_list[None, :], index_float.transpose(0,1)) # [1,2], [2,2]\n",
    "batch_m = batch_m.view((-1, 1))\n",
    "#x_m = x - batch_m\n"
   ]
  }
 ],
 "metadata": {
  "kernelspec": {
   "display_name": "Python 3",
   "language": "python",
   "name": "python3"
  },
  "language_info": {
   "codemirror_mode": {
    "name": "ipython",
    "version": 3
   },
   "file_extension": ".py",
   "mimetype": "text/x-python",
   "name": "python",
   "nbconvert_exporter": "python",
   "pygments_lexer": "ipython3",
   "version": "3.6.9"
  }
 },
 "nbformat": 4,
 "nbformat_minor": 4
}
